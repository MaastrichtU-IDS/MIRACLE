{
  "cells": [
    {
      "cell_type": "code",
      "execution_count": null,
      "id": "d0ce2bc3-57dd-4531-93ee-61014a1c8cfa",
      "metadata": {
        "tags": [],
        "id": "d0ce2bc3-57dd-4531-93ee-61014a1c8cfa"
      },
      "outputs": [],
      "source": [
        "import pandas as pd\n",
        "import os"
      ]
    },
    {
      "cell_type": "code",
      "source": [
        "pip install gdown"
      ],
      "metadata": {
        "colab": {
          "base_uri": "https://localhost:8080/"
        },
        "id": "KpEMap4XNqry",
        "outputId": "9d544431-e1d2-405e-b829-55c4fdeb1194"
      },
      "id": "KpEMap4XNqry",
      "execution_count": null,
      "outputs": [
        {
          "output_type": "stream",
          "name": "stdout",
          "text": [
            "Requirement already satisfied: gdown in /usr/local/lib/python3.10/dist-packages (4.6.6)\n",
            "Requirement already satisfied: filelock in /usr/local/lib/python3.10/dist-packages (from gdown) (3.12.4)\n",
            "Requirement already satisfied: requests[socks] in /usr/local/lib/python3.10/dist-packages (from gdown) (2.31.0)\n",
            "Requirement already satisfied: six in /usr/local/lib/python3.10/dist-packages (from gdown) (1.16.0)\n",
            "Requirement already satisfied: tqdm in /usr/local/lib/python3.10/dist-packages (from gdown) (4.66.1)\n",
            "Requirement already satisfied: beautifulsoup4 in /usr/local/lib/python3.10/dist-packages (from gdown) (4.11.2)\n",
            "Requirement already satisfied: soupsieve>1.2 in /usr/local/lib/python3.10/dist-packages (from beautifulsoup4->gdown) (2.5)\n",
            "Requirement already satisfied: charset-normalizer<4,>=2 in /usr/local/lib/python3.10/dist-packages (from requests[socks]->gdown) (3.3.1)\n",
            "Requirement already satisfied: idna<4,>=2.5 in /usr/local/lib/python3.10/dist-packages (from requests[socks]->gdown) (3.4)\n",
            "Requirement already satisfied: urllib3<3,>=1.21.1 in /usr/local/lib/python3.10/dist-packages (from requests[socks]->gdown) (2.0.7)\n",
            "Requirement already satisfied: certifi>=2017.4.17 in /usr/local/lib/python3.10/dist-packages (from requests[socks]->gdown) (2023.7.22)\n",
            "Requirement already satisfied: PySocks!=1.5.7,>=1.5.6 in /usr/local/lib/python3.10/dist-packages (from requests[socks]->gdown) (1.7.1)\n"
          ]
        }
      ]
    },
    {
      "cell_type": "code",
      "source": [
        "!mkdir data\n",
        "\n",
        "!wget -O data/indications_full_text.csv.gz https://huggingface.co/datasets/um-ids/dailymed-annotations/resolve/main/indications_full_text.csv.gz\n",
        "\n",
        "# our use\n",
        "#!gdown 15SXFzKx31xfiTKWs6vvFtq313q3UlTiw -O data/rxnorm_mappings.zip.zip\n",
        "\n",
        "# For latest rxnorm mappings\n",
        "!wget -O data/rxnorm_mappings.zip https://dailymed-data.nlm.nih.gov/public-release-files/rxnorm_mappings.zip"
      ],
      "metadata": {
        "colab": {
          "base_uri": "https://localhost:8080/"
        },
        "id": "45c4sze6Mhxc",
        "outputId": "6e7029d3-df59-4032-a6b6-5680b20ee35c"
      },
      "id": "45c4sze6Mhxc",
      "execution_count": null,
      "outputs": [
        {
          "output_type": "stream",
          "name": "stdout",
          "text": [
            "mkdir: cannot create directory ‘data’: File exists\n",
            "--2023-11-03 11:16:02--  https://huggingface.co/datasets/um-ids/dailymed-annotations/resolve/main/indications_full_text.csv.gz\n",
            "Resolving huggingface.co (huggingface.co)... 65.8.243.46, 65.8.243.92, 65.8.243.90, ...\n",
            "Connecting to huggingface.co (huggingface.co)|65.8.243.46|:443... connected.\n",
            "HTTP request sent, awaiting response... 302 Found\n",
            "Location: https://cdn-lfs.huggingface.co/repos/c6/c6/c6c6f8f7ef3e0d8f747089dd0d053687bfa8747972aee98ba6fe2020d463f816/387d1da555c4f81e65232d2118f11dc494e85e724bc4f7c99ef75fbcafa9841c?response-content-disposition=attachment%3B+filename*%3DUTF-8%27%27indications_full_text.csv.gz%3B+filename%3D%22indications_full_text.csv.gz%22%3B&response-content-type=application%2Fgzip&Expires=1699269362&Policy=eyJTdGF0ZW1lbnQiOlt7IkNvbmRpdGlvbiI6eyJEYXRlTGVzc1RoYW4iOnsiQVdTOkVwb2NoVGltZSI6MTY5OTI2OTM2Mn19LCJSZXNvdXJjZSI6Imh0dHBzOi8vY2RuLWxmcy5odWdnaW5nZmFjZS5jby9yZXBvcy9jNi9jNi9jNmM2ZjhmN2VmM2UwZDhmNzQ3MDg5ZGQwZDA1MzY4N2JmYTg3NDc5NzJhZWU5OGJhNmZlMjAyMGQ0NjNmODE2LzM4N2QxZGE1NTVjNGY4MWU2NTIzMmQyMTE4ZjExZGM0OTRlODVlNzI0YmM0ZjdjOTllZjc1ZmJjYWZhOTg0MWM%7EcmVzcG9uc2UtY29udGVudC1kaXNwb3NpdGlvbj0qJnJlc3BvbnNlLWNvbnRlbnQtdHlwZT0qIn1dfQ__&Signature=ufZwszh9HMRHKAx6oL-24IbSxJEmXl1XMjvriWRPNlXb3GkyhCvW2p18pzZ7kCkgepoLg371W1nl1vRJatEL8giMJubYpxlVkyFho79x%7E-XAC5OkLYZ2-NwFDXntweh5yhEF9cRASyPJtG8u86p808Ar4cFkdzcT%7EPXlQZvJe5Iuj8SqrM5Zo8K5gXDtxgNiHJUCwtMbxYjEP325gLKD6qxMWRxqYE4SiK6tFdUZwFrDVMeABAkqXLwxS-S9W2q-qKSSvXU0Z7pygf5c09itL2vMJgU16XMk3Y9BN06zqJdtHN-XZwcdRmMA3eAKr4secX-JBSBR6St06bcYnf-CdA__&Key-Pair-Id=KVTP0A1DKRTAX [following]\n",
            "--2023-11-03 11:16:02--  https://cdn-lfs.huggingface.co/repos/c6/c6/c6c6f8f7ef3e0d8f747089dd0d053687bfa8747972aee98ba6fe2020d463f816/387d1da555c4f81e65232d2118f11dc494e85e724bc4f7c99ef75fbcafa9841c?response-content-disposition=attachment%3B+filename*%3DUTF-8%27%27indications_full_text.csv.gz%3B+filename%3D%22indications_full_text.csv.gz%22%3B&response-content-type=application%2Fgzip&Expires=1699269362&Policy=eyJTdGF0ZW1lbnQiOlt7IkNvbmRpdGlvbiI6eyJEYXRlTGVzc1RoYW4iOnsiQVdTOkVwb2NoVGltZSI6MTY5OTI2OTM2Mn19LCJSZXNvdXJjZSI6Imh0dHBzOi8vY2RuLWxmcy5odWdnaW5nZmFjZS5jby9yZXBvcy9jNi9jNi9jNmM2ZjhmN2VmM2UwZDhmNzQ3MDg5ZGQwZDA1MzY4N2JmYTg3NDc5NzJhZWU5OGJhNmZlMjAyMGQ0NjNmODE2LzM4N2QxZGE1NTVjNGY4MWU2NTIzMmQyMTE4ZjExZGM0OTRlODVlNzI0YmM0ZjdjOTllZjc1ZmJjYWZhOTg0MWM%7EcmVzcG9uc2UtY29udGVudC1kaXNwb3NpdGlvbj0qJnJlc3BvbnNlLWNvbnRlbnQtdHlwZT0qIn1dfQ__&Signature=ufZwszh9HMRHKAx6oL-24IbSxJEmXl1XMjvriWRPNlXb3GkyhCvW2p18pzZ7kCkgepoLg371W1nl1vRJatEL8giMJubYpxlVkyFho79x%7E-XAC5OkLYZ2-NwFDXntweh5yhEF9cRASyPJtG8u86p808Ar4cFkdzcT%7EPXlQZvJe5Iuj8SqrM5Zo8K5gXDtxgNiHJUCwtMbxYjEP325gLKD6qxMWRxqYE4SiK6tFdUZwFrDVMeABAkqXLwxS-S9W2q-qKSSvXU0Z7pygf5c09itL2vMJgU16XMk3Y9BN06zqJdtHN-XZwcdRmMA3eAKr4secX-JBSBR6St06bcYnf-CdA__&Key-Pair-Id=KVTP0A1DKRTAX\n",
            "Resolving cdn-lfs.huggingface.co (cdn-lfs.huggingface.co)... 13.32.164.31, 13.32.164.80, 13.32.164.92, ...\n",
            "Connecting to cdn-lfs.huggingface.co (cdn-lfs.huggingface.co)|13.32.164.31|:443... connected.\n",
            "HTTP request sent, awaiting response... 200 OK\n",
            "Length: 19645697 (19M) [application/gzip]\n",
            "Saving to: ‘data/indications_full_text.csv.gz’\n",
            "\n",
            "data/indications_fu 100%[===================>]  18.74M  77.6MB/s    in 0.2s    \n",
            "\n",
            "2023-11-03 11:16:02 (77.6 MB/s) - ‘data/indications_full_text.csv.gz’ saved [19645697/19645697]\n",
            "\n",
            "--2023-11-03 11:16:03--  https://dailymed-data.nlm.nih.gov/public-release-files/rxnorm_mappings.zip\n",
            "Resolving dailymed-data.nlm.nih.gov (dailymed-data.nlm.nih.gov)... 18.172.134.79, 18.172.134.12, 18.172.134.68, ...\n",
            "Connecting to dailymed-data.nlm.nih.gov (dailymed-data.nlm.nih.gov)|18.172.134.79|:443... connected.\n",
            "HTTP request sent, awaiting response... 200 OK\n",
            "Length: 6955689 (6.6M) [application/zip]\n",
            "Saving to: ‘data/rxnorm_mappings.zip’\n",
            "\n",
            "data/rxnorm_mapping 100%[===================>]   6.63M  --.-KB/s    in 0.1s    \n",
            "\n",
            "2023-11-03 11:16:03 (63.7 MB/s) - ‘data/rxnorm_mappings.zip’ saved [6955689/6955689]\n",
            "\n"
          ]
        }
      ]
    },
    {
      "cell_type": "code",
      "source": [
        "# !unzip data/indications_full_text.zip -d data\n",
        "!gzip -dk data/indications_full_text.csv.gz\n",
        "!unzip data/rxnorm_mappings.zip -d data"
      ],
      "metadata": {
        "colab": {
          "base_uri": "https://localhost:8080/"
        },
        "id": "orzAnOpBLxmw",
        "outputId": "34d9a4f8-3a72-4e6b-8add-bb7977a0cd9b"
      },
      "id": "orzAnOpBLxmw",
      "execution_count": null,
      "outputs": [
        {
          "output_type": "stream",
          "name": "stdout",
          "text": [
            "gzip: data/indications_full_text.csv already exists; do you wish to overwrite (y or n)? y\n",
            "Archive:  data/rxnorm_mappings.zip\n",
            "replace data/rxnorm_mappings.txt? [y]es, [n]o, [A]ll, [N]one, [r]ename: y\n",
            "  inflating: data/rxnorm_mappings.txt  \n"
          ]
        }
      ]
    },
    {
      "cell_type": "code",
      "execution_count": null,
      "id": "d4c11c48-9a91-4436-b55f-a4866e99fa21",
      "metadata": {
        "tags": [],
        "id": "d4c11c48-9a91-4436-b55f-a4866e99fa21"
      },
      "outputs": [],
      "source": [
        "folder = 'data'\n",
        "pd.set_option('display.max_rows', 10)\n",
        "pd.set_option('display.max_colwidth', 10)\n",
        "\n",
        "rxm_header = dict({\n",
        "    \"SETID\":\"SetId\",\n",
        "    \"SPL_VERSION\":\"\",\n",
        "    \"RXCUI\":\"\",\n",
        "    \"RXSTRING\":\"\",\n",
        "    \"RXTTY\":\"\"\n",
        "})\n",
        "\n",
        "indications_full = dict({\n",
        "    \"set_id\":\"\",\"xml_id\":\"\",\"version_number\":\"\",\"indication\":\"\"\n",
        "})"
      ]
    },
    {
      "cell_type": "code",
      "execution_count": null,
      "id": "1f3dc0f8-e83f-4a78-b471-ff239935c09b",
      "metadata": {
        "tags": [],
        "id": "1f3dc0f8-e83f-4a78-b471-ff239935c09b"
      },
      "outputs": [],
      "source": [
        "file = f'{folder}/indications_full_text.csv'\n",
        "inds = pd.read_csv(f'{file}', sep=',', header=0, index_col=False, names=indications_full.keys())\n",
        "\n",
        "file = f'{folder}/rxnorm_mappings.txt'\n",
        "rxm = pd.read_csv(f'{file}', sep='|', header=0, index_col=False, names=rxm_header.keys())"
      ]
    },
    {
      "cell_type": "markdown",
      "source": [
        "There are 48,396 indication texts"
      ],
      "metadata": {
        "id": "ElkT9f_Y3rE9"
      },
      "id": "ElkT9f_Y3rE9"
    },
    {
      "cell_type": "code",
      "execution_count": null,
      "id": "7116b8d9-ac18-417b-93a0-0cee7d0f1256",
      "metadata": {
        "tags": [],
        "id": "7116b8d9-ac18-417b-93a0-0cee7d0f1256",
        "outputId": "60a607d9-4192-4c34-b59b-ea9823c4f94c",
        "colab": {
          "base_uri": "https://localhost:8080/",
          "height": 424
        }
      },
      "outputs": [
        {
          "output_type": "execute_result",
          "data": {
            "text/plain": [
              "          set_id     xml_id  version_number indication\n",
              "0      513ecb...  024c00...          1       \\n\\n\\n...\n",
              "1      4034fb...  feb790...         30       \\n\\n\\n...\n",
              "2      e06b3b...  c8d74a...          7       \\n\\n\\n...\n",
              "3      6ba2c7...  2f083a...          1       \\n\\n\\n...\n",
              "4      cc2353...  cc2353...          1       \\n\\n\\n...\n",
              "...          ...        ...        ...             ...\n",
              "48391  0e7bca...  2e58de...          3       \\n\\n\\n...\n",
              "48392  fd3825...  593fed...          6       \\n\\n\\n...\n",
              "48393  98bae5...  d4bd0a...          7       \\n\\n\\n...\n",
              "48394  fc0cc9...  23972e...          3       \\n\\n\\n...\n",
              "48395  f38e61...  f214c8...         10       \\n\\n\\n...\n",
              "\n",
              "[48396 rows x 4 columns]"
            ],
            "text/html": [
              "\n",
              "  <div id=\"df-c962b837-04ac-4c18-936c-30edb4a882c6\" class=\"colab-df-container\">\n",
              "    <div>\n",
              "<style scoped>\n",
              "    .dataframe tbody tr th:only-of-type {\n",
              "        vertical-align: middle;\n",
              "    }\n",
              "\n",
              "    .dataframe tbody tr th {\n",
              "        vertical-align: top;\n",
              "    }\n",
              "\n",
              "    .dataframe thead th {\n",
              "        text-align: right;\n",
              "    }\n",
              "</style>\n",
              "<table border=\"1\" class=\"dataframe\">\n",
              "  <thead>\n",
              "    <tr style=\"text-align: right;\">\n",
              "      <th></th>\n",
              "      <th>set_id</th>\n",
              "      <th>xml_id</th>\n",
              "      <th>version_number</th>\n",
              "      <th>indication</th>\n",
              "    </tr>\n",
              "  </thead>\n",
              "  <tbody>\n",
              "    <tr>\n",
              "      <th>0</th>\n",
              "      <td>513ecb...</td>\n",
              "      <td>024c00...</td>\n",
              "      <td>1</td>\n",
              "      <td>\\n\\n\\n...</td>\n",
              "    </tr>\n",
              "    <tr>\n",
              "      <th>1</th>\n",
              "      <td>4034fb...</td>\n",
              "      <td>feb790...</td>\n",
              "      <td>30</td>\n",
              "      <td>\\n\\n\\n...</td>\n",
              "    </tr>\n",
              "    <tr>\n",
              "      <th>2</th>\n",
              "      <td>e06b3b...</td>\n",
              "      <td>c8d74a...</td>\n",
              "      <td>7</td>\n",
              "      <td>\\n\\n\\n...</td>\n",
              "    </tr>\n",
              "    <tr>\n",
              "      <th>3</th>\n",
              "      <td>6ba2c7...</td>\n",
              "      <td>2f083a...</td>\n",
              "      <td>1</td>\n",
              "      <td>\\n\\n\\n...</td>\n",
              "    </tr>\n",
              "    <tr>\n",
              "      <th>4</th>\n",
              "      <td>cc2353...</td>\n",
              "      <td>cc2353...</td>\n",
              "      <td>1</td>\n",
              "      <td>\\n\\n\\n...</td>\n",
              "    </tr>\n",
              "    <tr>\n",
              "      <th>...</th>\n",
              "      <td>...</td>\n",
              "      <td>...</td>\n",
              "      <td>...</td>\n",
              "      <td>...</td>\n",
              "    </tr>\n",
              "    <tr>\n",
              "      <th>48391</th>\n",
              "      <td>0e7bca...</td>\n",
              "      <td>2e58de...</td>\n",
              "      <td>3</td>\n",
              "      <td>\\n\\n\\n...</td>\n",
              "    </tr>\n",
              "    <tr>\n",
              "      <th>48392</th>\n",
              "      <td>fd3825...</td>\n",
              "      <td>593fed...</td>\n",
              "      <td>6</td>\n",
              "      <td>\\n\\n\\n...</td>\n",
              "    </tr>\n",
              "    <tr>\n",
              "      <th>48393</th>\n",
              "      <td>98bae5...</td>\n",
              "      <td>d4bd0a...</td>\n",
              "      <td>7</td>\n",
              "      <td>\\n\\n\\n...</td>\n",
              "    </tr>\n",
              "    <tr>\n",
              "      <th>48394</th>\n",
              "      <td>fc0cc9...</td>\n",
              "      <td>23972e...</td>\n",
              "      <td>3</td>\n",
              "      <td>\\n\\n\\n...</td>\n",
              "    </tr>\n",
              "    <tr>\n",
              "      <th>48395</th>\n",
              "      <td>f38e61...</td>\n",
              "      <td>f214c8...</td>\n",
              "      <td>10</td>\n",
              "      <td>\\n\\n\\n...</td>\n",
              "    </tr>\n",
              "  </tbody>\n",
              "</table>\n",
              "<p>48396 rows × 4 columns</p>\n",
              "</div>\n",
              "    <div class=\"colab-df-buttons\">\n",
              "\n",
              "  <div class=\"colab-df-container\">\n",
              "    <button class=\"colab-df-convert\" onclick=\"convertToInteractive('df-c962b837-04ac-4c18-936c-30edb4a882c6')\"\n",
              "            title=\"Convert this dataframe to an interactive table.\"\n",
              "            style=\"display:none;\">\n",
              "\n",
              "  <svg xmlns=\"http://www.w3.org/2000/svg\" height=\"24px\" viewBox=\"0 -960 960 960\">\n",
              "    <path d=\"M120-120v-720h720v720H120Zm60-500h600v-160H180v160Zm220 220h160v-160H400v160Zm0 220h160v-160H400v160ZM180-400h160v-160H180v160Zm440 0h160v-160H620v160ZM180-180h160v-160H180v160Zm440 0h160v-160H620v160Z\"/>\n",
              "  </svg>\n",
              "    </button>\n",
              "\n",
              "  <style>\n",
              "    .colab-df-container {\n",
              "      display:flex;\n",
              "      gap: 12px;\n",
              "    }\n",
              "\n",
              "    .colab-df-convert {\n",
              "      background-color: #E8F0FE;\n",
              "      border: none;\n",
              "      border-radius: 50%;\n",
              "      cursor: pointer;\n",
              "      display: none;\n",
              "      fill: #1967D2;\n",
              "      height: 32px;\n",
              "      padding: 0 0 0 0;\n",
              "      width: 32px;\n",
              "    }\n",
              "\n",
              "    .colab-df-convert:hover {\n",
              "      background-color: #E2EBFA;\n",
              "      box-shadow: 0px 1px 2px rgba(60, 64, 67, 0.3), 0px 1px 3px 1px rgba(60, 64, 67, 0.15);\n",
              "      fill: #174EA6;\n",
              "    }\n",
              "\n",
              "    .colab-df-buttons div {\n",
              "      margin-bottom: 4px;\n",
              "    }\n",
              "\n",
              "    [theme=dark] .colab-df-convert {\n",
              "      background-color: #3B4455;\n",
              "      fill: #D2E3FC;\n",
              "    }\n",
              "\n",
              "    [theme=dark] .colab-df-convert:hover {\n",
              "      background-color: #434B5C;\n",
              "      box-shadow: 0px 1px 3px 1px rgba(0, 0, 0, 0.15);\n",
              "      filter: drop-shadow(0px 1px 2px rgba(0, 0, 0, 0.3));\n",
              "      fill: #FFFFFF;\n",
              "    }\n",
              "  </style>\n",
              "\n",
              "    <script>\n",
              "      const buttonEl =\n",
              "        document.querySelector('#df-c962b837-04ac-4c18-936c-30edb4a882c6 button.colab-df-convert');\n",
              "      buttonEl.style.display =\n",
              "        google.colab.kernel.accessAllowed ? 'block' : 'none';\n",
              "\n",
              "      async function convertToInteractive(key) {\n",
              "        const element = document.querySelector('#df-c962b837-04ac-4c18-936c-30edb4a882c6');\n",
              "        const dataTable =\n",
              "          await google.colab.kernel.invokeFunction('convertToInteractive',\n",
              "                                                    [key], {});\n",
              "        if (!dataTable) return;\n",
              "\n",
              "        const docLinkHtml = 'Like what you see? Visit the ' +\n",
              "          '<a target=\"_blank\" href=https://colab.research.google.com/notebooks/data_table.ipynb>data table notebook</a>'\n",
              "          + ' to learn more about interactive tables.';\n",
              "        element.innerHTML = '';\n",
              "        dataTable['output_type'] = 'display_data';\n",
              "        await google.colab.output.renderOutput(dataTable, element);\n",
              "        const docLink = document.createElement('div');\n",
              "        docLink.innerHTML = docLinkHtml;\n",
              "        element.appendChild(docLink);\n",
              "      }\n",
              "    </script>\n",
              "  </div>\n",
              "\n",
              "\n",
              "<div id=\"df-f01a15be-eafd-4536-accd-6acfc1343320\">\n",
              "  <button class=\"colab-df-quickchart\" onclick=\"quickchart('df-f01a15be-eafd-4536-accd-6acfc1343320')\"\n",
              "            title=\"Suggest charts.\"\n",
              "            style=\"display:none;\">\n",
              "\n",
              "<svg xmlns=\"http://www.w3.org/2000/svg\" height=\"24px\"viewBox=\"0 0 24 24\"\n",
              "     width=\"24px\">\n",
              "    <g>\n",
              "        <path d=\"M19 3H5c-1.1 0-2 .9-2 2v14c0 1.1.9 2 2 2h14c1.1 0 2-.9 2-2V5c0-1.1-.9-2-2-2zM9 17H7v-7h2v7zm4 0h-2V7h2v10zm4 0h-2v-4h2v4z\"/>\n",
              "    </g>\n",
              "</svg>\n",
              "  </button>\n",
              "\n",
              "<style>\n",
              "  .colab-df-quickchart {\n",
              "      --bg-color: #E8F0FE;\n",
              "      --fill-color: #1967D2;\n",
              "      --hover-bg-color: #E2EBFA;\n",
              "      --hover-fill-color: #174EA6;\n",
              "      --disabled-fill-color: #AAA;\n",
              "      --disabled-bg-color: #DDD;\n",
              "  }\n",
              "\n",
              "  [theme=dark] .colab-df-quickchart {\n",
              "      --bg-color: #3B4455;\n",
              "      --fill-color: #D2E3FC;\n",
              "      --hover-bg-color: #434B5C;\n",
              "      --hover-fill-color: #FFFFFF;\n",
              "      --disabled-bg-color: #3B4455;\n",
              "      --disabled-fill-color: #666;\n",
              "  }\n",
              "\n",
              "  .colab-df-quickchart {\n",
              "    background-color: var(--bg-color);\n",
              "    border: none;\n",
              "    border-radius: 50%;\n",
              "    cursor: pointer;\n",
              "    display: none;\n",
              "    fill: var(--fill-color);\n",
              "    height: 32px;\n",
              "    padding: 0;\n",
              "    width: 32px;\n",
              "  }\n",
              "\n",
              "  .colab-df-quickchart:hover {\n",
              "    background-color: var(--hover-bg-color);\n",
              "    box-shadow: 0 1px 2px rgba(60, 64, 67, 0.3), 0 1px 3px 1px rgba(60, 64, 67, 0.15);\n",
              "    fill: var(--button-hover-fill-color);\n",
              "  }\n",
              "\n",
              "  .colab-df-quickchart-complete:disabled,\n",
              "  .colab-df-quickchart-complete:disabled:hover {\n",
              "    background-color: var(--disabled-bg-color);\n",
              "    fill: var(--disabled-fill-color);\n",
              "    box-shadow: none;\n",
              "  }\n",
              "\n",
              "  .colab-df-spinner {\n",
              "    border: 2px solid var(--fill-color);\n",
              "    border-color: transparent;\n",
              "    border-bottom-color: var(--fill-color);\n",
              "    animation:\n",
              "      spin 1s steps(1) infinite;\n",
              "  }\n",
              "\n",
              "  @keyframes spin {\n",
              "    0% {\n",
              "      border-color: transparent;\n",
              "      border-bottom-color: var(--fill-color);\n",
              "      border-left-color: var(--fill-color);\n",
              "    }\n",
              "    20% {\n",
              "      border-color: transparent;\n",
              "      border-left-color: var(--fill-color);\n",
              "      border-top-color: var(--fill-color);\n",
              "    }\n",
              "    30% {\n",
              "      border-color: transparent;\n",
              "      border-left-color: var(--fill-color);\n",
              "      border-top-color: var(--fill-color);\n",
              "      border-right-color: var(--fill-color);\n",
              "    }\n",
              "    40% {\n",
              "      border-color: transparent;\n",
              "      border-right-color: var(--fill-color);\n",
              "      border-top-color: var(--fill-color);\n",
              "    }\n",
              "    60% {\n",
              "      border-color: transparent;\n",
              "      border-right-color: var(--fill-color);\n",
              "    }\n",
              "    80% {\n",
              "      border-color: transparent;\n",
              "      border-right-color: var(--fill-color);\n",
              "      border-bottom-color: var(--fill-color);\n",
              "    }\n",
              "    90% {\n",
              "      border-color: transparent;\n",
              "      border-bottom-color: var(--fill-color);\n",
              "    }\n",
              "  }\n",
              "</style>\n",
              "\n",
              "  <script>\n",
              "    async function quickchart(key) {\n",
              "      const quickchartButtonEl =\n",
              "        document.querySelector('#' + key + ' button');\n",
              "      quickchartButtonEl.disabled = true;  // To prevent multiple clicks.\n",
              "      quickchartButtonEl.classList.add('colab-df-spinner');\n",
              "      try {\n",
              "        const charts = await google.colab.kernel.invokeFunction(\n",
              "            'suggestCharts', [key], {});\n",
              "      } catch (error) {\n",
              "        console.error('Error during call to suggestCharts:', error);\n",
              "      }\n",
              "      quickchartButtonEl.classList.remove('colab-df-spinner');\n",
              "      quickchartButtonEl.classList.add('colab-df-quickchart-complete');\n",
              "    }\n",
              "    (() => {\n",
              "      let quickchartButtonEl =\n",
              "        document.querySelector('#df-f01a15be-eafd-4536-accd-6acfc1343320 button');\n",
              "      quickchartButtonEl.style.display =\n",
              "        google.colab.kernel.accessAllowed ? 'block' : 'none';\n",
              "    })();\n",
              "  </script>\n",
              "</div>\n",
              "    </div>\n",
              "  </div>\n"
            ]
          },
          "metadata": {},
          "execution_count": 17
        }
      ],
      "source": [
        "inds"
      ]
    },
    {
      "cell_type": "code",
      "source": [
        "rxm"
      ],
      "metadata": {
        "colab": {
          "base_uri": "https://localhost:8080/",
          "height": 424
        },
        "id": "ZS7ybj-IaQcx",
        "outputId": "a6a9d82d-fa12-42c9-de4f-5ad328290842"
      },
      "id": "ZS7ybj-IaQcx",
      "execution_count": null,
      "outputs": [
        {
          "output_type": "execute_result",
          "data": {
            "text/plain": [
              "            SETID  SPL_VERSION    RXCUI   RXSTRING RXTTY\n",
              "0       000155...         27     198014  naprox...   PSN\n",
              "1       000155...         27     198014  naprox...   SCD\n",
              "2       0001d1...          2    1046593  benzal...   PSN\n",
              "3       0001d1...          2    1046593  benzal...    SY\n",
              "4       0001d1...          2    1046593  benzal...   SCD\n",
              "...           ...        ...        ...        ...   ...\n",
              "457357  le7230...          1     209011  calciu...   SBD\n",
              "457358  lf69f1...          1     836358  ipratr...   PSN\n",
              "457359  lf69f1...          1     836358  ipratr...    SY\n",
              "457360  lf69f1...          1     836358  ipratr...   SCD\n",
              "457361  lf69f1...          1     836358  ipratr...    SY\n",
              "\n",
              "[457362 rows x 5 columns]"
            ],
            "text/html": [
              "\n",
              "  <div id=\"df-cc20ddb6-2660-46d2-a3b0-7014b76e448d\" class=\"colab-df-container\">\n",
              "    <div>\n",
              "<style scoped>\n",
              "    .dataframe tbody tr th:only-of-type {\n",
              "        vertical-align: middle;\n",
              "    }\n",
              "\n",
              "    .dataframe tbody tr th {\n",
              "        vertical-align: top;\n",
              "    }\n",
              "\n",
              "    .dataframe thead th {\n",
              "        text-align: right;\n",
              "    }\n",
              "</style>\n",
              "<table border=\"1\" class=\"dataframe\">\n",
              "  <thead>\n",
              "    <tr style=\"text-align: right;\">\n",
              "      <th></th>\n",
              "      <th>SETID</th>\n",
              "      <th>SPL_VERSION</th>\n",
              "      <th>RXCUI</th>\n",
              "      <th>RXSTRING</th>\n",
              "      <th>RXTTY</th>\n",
              "    </tr>\n",
              "  </thead>\n",
              "  <tbody>\n",
              "    <tr>\n",
              "      <th>0</th>\n",
              "      <td>000155...</td>\n",
              "      <td>27</td>\n",
              "      <td>198014</td>\n",
              "      <td>naprox...</td>\n",
              "      <td>PSN</td>\n",
              "    </tr>\n",
              "    <tr>\n",
              "      <th>1</th>\n",
              "      <td>000155...</td>\n",
              "      <td>27</td>\n",
              "      <td>198014</td>\n",
              "      <td>naprox...</td>\n",
              "      <td>SCD</td>\n",
              "    </tr>\n",
              "    <tr>\n",
              "      <th>2</th>\n",
              "      <td>0001d1...</td>\n",
              "      <td>2</td>\n",
              "      <td>1046593</td>\n",
              "      <td>benzal...</td>\n",
              "      <td>PSN</td>\n",
              "    </tr>\n",
              "    <tr>\n",
              "      <th>3</th>\n",
              "      <td>0001d1...</td>\n",
              "      <td>2</td>\n",
              "      <td>1046593</td>\n",
              "      <td>benzal...</td>\n",
              "      <td>SY</td>\n",
              "    </tr>\n",
              "    <tr>\n",
              "      <th>4</th>\n",
              "      <td>0001d1...</td>\n",
              "      <td>2</td>\n",
              "      <td>1046593</td>\n",
              "      <td>benzal...</td>\n",
              "      <td>SCD</td>\n",
              "    </tr>\n",
              "    <tr>\n",
              "      <th>...</th>\n",
              "      <td>...</td>\n",
              "      <td>...</td>\n",
              "      <td>...</td>\n",
              "      <td>...</td>\n",
              "      <td>...</td>\n",
              "    </tr>\n",
              "    <tr>\n",
              "      <th>457357</th>\n",
              "      <td>le7230...</td>\n",
              "      <td>1</td>\n",
              "      <td>209011</td>\n",
              "      <td>calciu...</td>\n",
              "      <td>SBD</td>\n",
              "    </tr>\n",
              "    <tr>\n",
              "      <th>457358</th>\n",
              "      <td>lf69f1...</td>\n",
              "      <td>1</td>\n",
              "      <td>836358</td>\n",
              "      <td>ipratr...</td>\n",
              "      <td>PSN</td>\n",
              "    </tr>\n",
              "    <tr>\n",
              "      <th>457359</th>\n",
              "      <td>lf69f1...</td>\n",
              "      <td>1</td>\n",
              "      <td>836358</td>\n",
              "      <td>ipratr...</td>\n",
              "      <td>SY</td>\n",
              "    </tr>\n",
              "    <tr>\n",
              "      <th>457360</th>\n",
              "      <td>lf69f1...</td>\n",
              "      <td>1</td>\n",
              "      <td>836358</td>\n",
              "      <td>ipratr...</td>\n",
              "      <td>SCD</td>\n",
              "    </tr>\n",
              "    <tr>\n",
              "      <th>457361</th>\n",
              "      <td>lf69f1...</td>\n",
              "      <td>1</td>\n",
              "      <td>836358</td>\n",
              "      <td>ipratr...</td>\n",
              "      <td>SY</td>\n",
              "    </tr>\n",
              "  </tbody>\n",
              "</table>\n",
              "<p>457362 rows × 5 columns</p>\n",
              "</div>\n",
              "    <div class=\"colab-df-buttons\">\n",
              "\n",
              "  <div class=\"colab-df-container\">\n",
              "    <button class=\"colab-df-convert\" onclick=\"convertToInteractive('df-cc20ddb6-2660-46d2-a3b0-7014b76e448d')\"\n",
              "            title=\"Convert this dataframe to an interactive table.\"\n",
              "            style=\"display:none;\">\n",
              "\n",
              "  <svg xmlns=\"http://www.w3.org/2000/svg\" height=\"24px\" viewBox=\"0 -960 960 960\">\n",
              "    <path d=\"M120-120v-720h720v720H120Zm60-500h600v-160H180v160Zm220 220h160v-160H400v160Zm0 220h160v-160H400v160ZM180-400h160v-160H180v160Zm440 0h160v-160H620v160ZM180-180h160v-160H180v160Zm440 0h160v-160H620v160Z\"/>\n",
              "  </svg>\n",
              "    </button>\n",
              "\n",
              "  <style>\n",
              "    .colab-df-container {\n",
              "      display:flex;\n",
              "      gap: 12px;\n",
              "    }\n",
              "\n",
              "    .colab-df-convert {\n",
              "      background-color: #E8F0FE;\n",
              "      border: none;\n",
              "      border-radius: 50%;\n",
              "      cursor: pointer;\n",
              "      display: none;\n",
              "      fill: #1967D2;\n",
              "      height: 32px;\n",
              "      padding: 0 0 0 0;\n",
              "      width: 32px;\n",
              "    }\n",
              "\n",
              "    .colab-df-convert:hover {\n",
              "      background-color: #E2EBFA;\n",
              "      box-shadow: 0px 1px 2px rgba(60, 64, 67, 0.3), 0px 1px 3px 1px rgba(60, 64, 67, 0.15);\n",
              "      fill: #174EA6;\n",
              "    }\n",
              "\n",
              "    .colab-df-buttons div {\n",
              "      margin-bottom: 4px;\n",
              "    }\n",
              "\n",
              "    [theme=dark] .colab-df-convert {\n",
              "      background-color: #3B4455;\n",
              "      fill: #D2E3FC;\n",
              "    }\n",
              "\n",
              "    [theme=dark] .colab-df-convert:hover {\n",
              "      background-color: #434B5C;\n",
              "      box-shadow: 0px 1px 3px 1px rgba(0, 0, 0, 0.15);\n",
              "      filter: drop-shadow(0px 1px 2px rgba(0, 0, 0, 0.3));\n",
              "      fill: #FFFFFF;\n",
              "    }\n",
              "  </style>\n",
              "\n",
              "    <script>\n",
              "      const buttonEl =\n",
              "        document.querySelector('#df-cc20ddb6-2660-46d2-a3b0-7014b76e448d button.colab-df-convert');\n",
              "      buttonEl.style.display =\n",
              "        google.colab.kernel.accessAllowed ? 'block' : 'none';\n",
              "\n",
              "      async function convertToInteractive(key) {\n",
              "        const element = document.querySelector('#df-cc20ddb6-2660-46d2-a3b0-7014b76e448d');\n",
              "        const dataTable =\n",
              "          await google.colab.kernel.invokeFunction('convertToInteractive',\n",
              "                                                    [key], {});\n",
              "        if (!dataTable) return;\n",
              "\n",
              "        const docLinkHtml = 'Like what you see? Visit the ' +\n",
              "          '<a target=\"_blank\" href=https://colab.research.google.com/notebooks/data_table.ipynb>data table notebook</a>'\n",
              "          + ' to learn more about interactive tables.';\n",
              "        element.innerHTML = '';\n",
              "        dataTable['output_type'] = 'display_data';\n",
              "        await google.colab.output.renderOutput(dataTable, element);\n",
              "        const docLink = document.createElement('div');\n",
              "        docLink.innerHTML = docLinkHtml;\n",
              "        element.appendChild(docLink);\n",
              "      }\n",
              "    </script>\n",
              "  </div>\n",
              "\n",
              "\n",
              "<div id=\"df-77bb0398-d0ac-4999-abe0-fee0f1e20bfe\">\n",
              "  <button class=\"colab-df-quickchart\" onclick=\"quickchart('df-77bb0398-d0ac-4999-abe0-fee0f1e20bfe')\"\n",
              "            title=\"Suggest charts.\"\n",
              "            style=\"display:none;\">\n",
              "\n",
              "<svg xmlns=\"http://www.w3.org/2000/svg\" height=\"24px\"viewBox=\"0 0 24 24\"\n",
              "     width=\"24px\">\n",
              "    <g>\n",
              "        <path d=\"M19 3H5c-1.1 0-2 .9-2 2v14c0 1.1.9 2 2 2h14c1.1 0 2-.9 2-2V5c0-1.1-.9-2-2-2zM9 17H7v-7h2v7zm4 0h-2V7h2v10zm4 0h-2v-4h2v4z\"/>\n",
              "    </g>\n",
              "</svg>\n",
              "  </button>\n",
              "\n",
              "<style>\n",
              "  .colab-df-quickchart {\n",
              "      --bg-color: #E8F0FE;\n",
              "      --fill-color: #1967D2;\n",
              "      --hover-bg-color: #E2EBFA;\n",
              "      --hover-fill-color: #174EA6;\n",
              "      --disabled-fill-color: #AAA;\n",
              "      --disabled-bg-color: #DDD;\n",
              "  }\n",
              "\n",
              "  [theme=dark] .colab-df-quickchart {\n",
              "      --bg-color: #3B4455;\n",
              "      --fill-color: #D2E3FC;\n",
              "      --hover-bg-color: #434B5C;\n",
              "      --hover-fill-color: #FFFFFF;\n",
              "      --disabled-bg-color: #3B4455;\n",
              "      --disabled-fill-color: #666;\n",
              "  }\n",
              "\n",
              "  .colab-df-quickchart {\n",
              "    background-color: var(--bg-color);\n",
              "    border: none;\n",
              "    border-radius: 50%;\n",
              "    cursor: pointer;\n",
              "    display: none;\n",
              "    fill: var(--fill-color);\n",
              "    height: 32px;\n",
              "    padding: 0;\n",
              "    width: 32px;\n",
              "  }\n",
              "\n",
              "  .colab-df-quickchart:hover {\n",
              "    background-color: var(--hover-bg-color);\n",
              "    box-shadow: 0 1px 2px rgba(60, 64, 67, 0.3), 0 1px 3px 1px rgba(60, 64, 67, 0.15);\n",
              "    fill: var(--button-hover-fill-color);\n",
              "  }\n",
              "\n",
              "  .colab-df-quickchart-complete:disabled,\n",
              "  .colab-df-quickchart-complete:disabled:hover {\n",
              "    background-color: var(--disabled-bg-color);\n",
              "    fill: var(--disabled-fill-color);\n",
              "    box-shadow: none;\n",
              "  }\n",
              "\n",
              "  .colab-df-spinner {\n",
              "    border: 2px solid var(--fill-color);\n",
              "    border-color: transparent;\n",
              "    border-bottom-color: var(--fill-color);\n",
              "    animation:\n",
              "      spin 1s steps(1) infinite;\n",
              "  }\n",
              "\n",
              "  @keyframes spin {\n",
              "    0% {\n",
              "      border-color: transparent;\n",
              "      border-bottom-color: var(--fill-color);\n",
              "      border-left-color: var(--fill-color);\n",
              "    }\n",
              "    20% {\n",
              "      border-color: transparent;\n",
              "      border-left-color: var(--fill-color);\n",
              "      border-top-color: var(--fill-color);\n",
              "    }\n",
              "    30% {\n",
              "      border-color: transparent;\n",
              "      border-left-color: var(--fill-color);\n",
              "      border-top-color: var(--fill-color);\n",
              "      border-right-color: var(--fill-color);\n",
              "    }\n",
              "    40% {\n",
              "      border-color: transparent;\n",
              "      border-right-color: var(--fill-color);\n",
              "      border-top-color: var(--fill-color);\n",
              "    }\n",
              "    60% {\n",
              "      border-color: transparent;\n",
              "      border-right-color: var(--fill-color);\n",
              "    }\n",
              "    80% {\n",
              "      border-color: transparent;\n",
              "      border-right-color: var(--fill-color);\n",
              "      border-bottom-color: var(--fill-color);\n",
              "    }\n",
              "    90% {\n",
              "      border-color: transparent;\n",
              "      border-bottom-color: var(--fill-color);\n",
              "    }\n",
              "  }\n",
              "</style>\n",
              "\n",
              "  <script>\n",
              "    async function quickchart(key) {\n",
              "      const quickchartButtonEl =\n",
              "        document.querySelector('#' + key + ' button');\n",
              "      quickchartButtonEl.disabled = true;  // To prevent multiple clicks.\n",
              "      quickchartButtonEl.classList.add('colab-df-spinner');\n",
              "      try {\n",
              "        const charts = await google.colab.kernel.invokeFunction(\n",
              "            'suggestCharts', [key], {});\n",
              "      } catch (error) {\n",
              "        console.error('Error during call to suggestCharts:', error);\n",
              "      }\n",
              "      quickchartButtonEl.classList.remove('colab-df-spinner');\n",
              "      quickchartButtonEl.classList.add('colab-df-quickchart-complete');\n",
              "    }\n",
              "    (() => {\n",
              "      let quickchartButtonEl =\n",
              "        document.querySelector('#df-77bb0398-d0ac-4999-abe0-fee0f1e20bfe button');\n",
              "      quickchartButtonEl.style.display =\n",
              "        google.colab.kernel.accessAllowed ? 'block' : 'none';\n",
              "    })();\n",
              "  </script>\n",
              "</div>\n",
              "    </div>\n",
              "  </div>\n"
            ]
          },
          "metadata": {},
          "execution_count": 18
        }
      ]
    },
    {
      "cell_type": "markdown",
      "source": [
        "Filter based on PSN"
      ],
      "metadata": {
        "id": "durVa7OZ31lQ"
      },
      "id": "durVa7OZ31lQ"
    },
    {
      "cell_type": "code",
      "source": [
        "rxm_psn = rxm.query('RXTTY==\"PSN\"')\n",
        "len(rxm_psn)"
      ],
      "metadata": {
        "id": "v3k5dICY35BQ",
        "colab": {
          "base_uri": "https://localhost:8080/"
        },
        "outputId": "a034844a-38d7-4943-a4df-368dda22b385"
      },
      "id": "v3k5dICY35BQ",
      "execution_count": null,
      "outputs": [
        {
          "output_type": "execute_result",
          "data": {
            "text/plain": [
              "146325"
            ]
          },
          "metadata": {},
          "execution_count": 20
        }
      ]
    },
    {
      "cell_type": "markdown",
      "source": [
        "Take the first"
      ],
      "metadata": {
        "id": "tCbxMEHR4E3F"
      },
      "id": "tCbxMEHR4E3F"
    },
    {
      "cell_type": "code",
      "source": [
        "rxm_psn_first = rxm_psn.groupby('RXCUI').first()\n",
        "len(rxm_psn_first)"
      ],
      "metadata": {
        "id": "72b3E2LX4Mkj",
        "colab": {
          "base_uri": "https://localhost:8080/"
        },
        "outputId": "d26fd3f6-1ba6-4600-afea-0c3e0cb4fa33"
      },
      "id": "72b3E2LX4Mkj",
      "execution_count": null,
      "outputs": [
        {
          "output_type": "execute_result",
          "data": {
            "text/plain": [
              "23192"
            ]
          },
          "metadata": {},
          "execution_count": 21
        }
      ]
    },
    {
      "cell_type": "markdown",
      "source": [
        "Remove the duplicated SET_ID's"
      ],
      "metadata": {
        "id": "hn2T-dyW4WVZ"
      },
      "id": "hn2T-dyW4WVZ"
    },
    {
      "cell_type": "code",
      "source": [
        "rxm_psn_first_non_dub = rxm_psn_first.drop_duplicates(\"SETID\")\n",
        "len(rxm_psn_first_non_dub)"
      ],
      "metadata": {
        "id": "bItiUJcA4bJB",
        "colab": {
          "base_uri": "https://localhost:8080/"
        },
        "outputId": "7ffc1716-ee9a-45df-d223-8b6469714e69"
      },
      "id": "bItiUJcA4bJB",
      "execution_count": null,
      "outputs": [
        {
          "output_type": "execute_result",
          "data": {
            "text/plain": [
              "11541"
            ]
          },
          "metadata": {},
          "execution_count": 23
        }
      ]
    },
    {
      "cell_type": "markdown",
      "source": [
        "Add the indication text to filtered set_ids"
      ],
      "metadata": {
        "id": "fUNHIDHM4pDu"
      },
      "id": "fUNHIDHM4pDu"
    },
    {
      "cell_type": "code",
      "execution_count": null,
      "id": "d61754f2-a602-4536-8a2f-61cfb501a358",
      "metadata": {
        "tags": [],
        "id": "d61754f2-a602-4536-8a2f-61cfb501a358",
        "colab": {
          "base_uri": "https://localhost:8080/"
        },
        "outputId": "67eaeb10-059d-4627-c1f9-3e598ad97fae"
      },
      "outputs": [
        {
          "output_type": "execute_result",
          "data": {
            "text/plain": [
              "5693"
            ]
          },
          "metadata": {},
          "execution_count": 24
        }
      ],
      "source": [
        "rxm_psn_first_non_dub = rxm_psn_first_non_dub.merge(inds, left_on='SETID', right_on='set_id', how='inner') # length 239195\n",
        "rxm_psn_first_non_dub.reset_index(drop=True, inplace=True)\n",
        "len(rxm_psn_first_non_dub)"
      ]
    },
    {
      "cell_type": "code",
      "execution_count": null,
      "id": "06cdd4ae-58ea-4d27-87d5-9e022db549e6",
      "metadata": {
        "tags": [],
        "id": "06cdd4ae-58ea-4d27-87d5-9e022db549e6"
      },
      "outputs": [],
      "source": [
        "# gp = p.query('RXTTY==\"PSN\"') # length: 82901\n",
        "#gp = gp.groupby('RXCUI').first() # length: 14752\n",
        "#gp = gp.drop_duplicates(\"SETID\") # length: 5790\n",
        "\n",
        "#len(rxm_psn_first)"
      ]
    },
    {
      "cell_type": "markdown",
      "source": [
        "Clean text and filter based on text length"
      ],
      "metadata": {
        "id": "O4FxDbmF6H8K"
      },
      "id": "O4FxDbmF6H8K"
    },
    {
      "cell_type": "code",
      "source": [
        "min_len = 75\n",
        "max_len = 800\n",
        "rxm_psn_first_non_dub['indication_length'] = rxm_psn_first_non_dub['indication'].str.len()\n",
        "rxm_psn_first_non_dub_len = rxm_psn_first_non_dub[(rxm_psn_first_non_dub['indication_length'] >= min_len) & (rxm_psn_first_non_dub['indication_length'] <= 800)]\n",
        "rxm_psn_first_non_dub_len.drop(columns=['indication_length'], inplace=True)\n",
        "\n",
        "len(rxm_psn_first_non_dub_len)"
      ],
      "metadata": {
        "colab": {
          "base_uri": "https://localhost:8080/"
        },
        "id": "QokPY94Wg4Iw",
        "outputId": "17383c72-f392-46f3-975c-b58cd9375488"
      },
      "id": "QokPY94Wg4Iw",
      "execution_count": null,
      "outputs": [
        {
          "output_type": "stream",
          "name": "stderr",
          "text": [
            "<ipython-input-36-6bf81a223f5e>:5: SettingWithCopyWarning: \n",
            "A value is trying to be set on a copy of a slice from a DataFrame\n",
            "\n",
            "See the caveats in the documentation: https://pandas.pydata.org/pandas-docs/stable/user_guide/indexing.html#returning-a-view-versus-a-copy\n",
            "  rxm_psn_first_non_dub_len.drop(columns=['indication_length'], inplace=True)\n"
          ]
        },
        {
          "output_type": "execute_result",
          "data": {
            "text/plain": [
              "2913"
            ]
          },
          "metadata": {},
          "execution_count": 36
        }
      ]
    },
    {
      "cell_type": "code",
      "execution_count": null,
      "id": "8d06e9c5-7ba9-4e10-8b00-aaf61468bd36",
      "metadata": {
        "tags": [],
        "id": "8d06e9c5-7ba9-4e10-8b00-aaf61468bd36",
        "colab": {
          "base_uri": "https://localhost:8080/"
        },
        "outputId": "7b3c5fda-57f7-4741-c56b-56aa42b1b275"
      },
      "outputs": [
        {
          "output_type": "stream",
          "name": "stderr",
          "text": [
            "<ipython-input-57-6865b41320c1>:19: SettingWithCopyWarning: \n",
            "A value is trying to be set on a copy of a slice from a DataFrame.\n",
            "Try using .loc[row_indexer,col_indexer] = value instead\n",
            "\n",
            "See the caveats in the documentation: https://pandas.pydata.org/pandas-docs/stable/user_guide/indexing.html#returning-a-view-versus-a-copy\n",
            "  rxm_psn_first_non_dub_len['clean'] = rxm_psn_first_non_dub_len.apply(lambda row : clean(row), axis=1)\n"
          ]
        }
      ],
      "source": [
        "def clean(row):\n",
        "    import re\n",
        "    cleaned_text = row['indication']\n",
        "\n",
        "    cleaned_text = re.sub(r'\\n+', '\\n', cleaned_text)  # Remove extra line breaks\n",
        "    cleaned_text = re.sub(r'\\n\\s+', '\\n', cleaned_text)  # Remove leading spaces after line breaks\n",
        "    cleaned_text = re.sub(r'\\s+', ' ', cleaned_text)  # Replace multiple spaces with a single space\n",
        "    cleaned_text = re.sub(r'INDICATIONS AND USAGE:?','', cleaned_text, flags=re.IGNORECASE)\n",
        "    cleaned_text = re.sub(r'INDICATIONS & USAGE','', cleaned_text, flags=re.IGNORECASE)\n",
        "    cleaned_text = re.sub(r'INDICATION','', cleaned_text, flags=re.IGNORECASE)\n",
        "    cleaned_text = re.sub(r'INIDCATIONS','', cleaned_text, flags=re.IGNORECASE)\n",
        "    cleaned_text = re.sub(r'^\\s?[\\d:-]*(\\.|\\s)?','', cleaned_text)\n",
        "    cleaned_text = re.sub(r'^[\\d\\.]*','', cleaned_text)\n",
        "    cleaned_text = re.sub(r'^%','', cleaned_text)\n",
        "    cleaned_text = cleaned_text.encode(\"ascii\", \"ignore\").decode()\n",
        "\n",
        "    return cleaned_text.strip()\n",
        "\n",
        "rxm_psn_first_non_dub_len['clean'] = rxm_psn_first_non_dub_len.apply(lambda row : clean(row), axis=1)\n",
        "g = rxm_psn_first_non_dub_len.drop(columns='indication')\n",
        "g.to_csv(f\"{folder}/group_by_PSN_RXCUI_nodup_spl_clean.csv\")"
      ]
    },
    {
      "cell_type": "code",
      "source": [
        "!wc -l data/group_by_PSN_RXCUI_nodup_spl_clean.csv"
      ],
      "metadata": {
        "colab": {
          "base_uri": "https://localhost:8080/"
        },
        "id": "wX1onzXjQ5Fc",
        "outputId": "a9f74628-6349-44b5-efbb-eae36d6aa1fb"
      },
      "id": "wX1onzXjQ5Fc",
      "execution_count": null,
      "outputs": [
        {
          "output_type": "stream",
          "name": "stdout",
          "text": [
            "2914 data/group_by_PSN_RXCUI_nodup_spl_clean.csv\n"
          ]
        }
      ]
    }
  ],
  "metadata": {
    "kernelspec": {
      "display_name": "Python 3 (ipykernel)",
      "language": "python",
      "name": "python3"
    },
    "language_info": {
      "codemirror_mode": {
        "name": "ipython",
        "version": 3
      },
      "file_extension": ".py",
      "mimetype": "text/x-python",
      "name": "python",
      "nbconvert_exporter": "python",
      "pygments_lexer": "ipython3",
      "version": "3.10.12"
    },
    "colab": {
      "provenance": []
    }
  },
  "nbformat": 4,
  "nbformat_minor": 5
}